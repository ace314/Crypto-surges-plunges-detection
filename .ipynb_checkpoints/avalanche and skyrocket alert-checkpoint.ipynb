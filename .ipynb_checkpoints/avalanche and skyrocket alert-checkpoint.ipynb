{
 "cells": [
  {
   "cell_type": "markdown",
   "id": "2c9a9b31",
   "metadata": {},
   "source": [
    "# Import Packages"
   ]
  },
  {
   "cell_type": "code",
   "execution_count": 1,
   "id": "3acdd189",
   "metadata": {},
   "outputs": [],
   "source": [
    "# API selection\n",
    "from tkinter import *\n",
    "from tkinter import filedialog\n",
    "from tkinter import Tk\n",
    "import json\n",
    "\n",
    "# python Binance\n",
    "from binance.client import Client\n",
    "\n",
    "import matplotlib.pyplot as plt\n",
    "import seaborn as sns\n",
    "sns.set(style=\"darkgrid\")\n",
    "import pandas as pd\n",
    "import numpy as np\n",
    "import time\n",
    "from datetime import datetime\n",
    "\n",
    "import warnings\n",
    "warnings.filterwarnings('ignore')"
   ]
  },
  {
   "cell_type": "markdown",
   "id": "dd404ad2",
   "metadata": {},
   "source": [
    "# Select API Key"
   ]
  },
  {
   "cell_type": "code",
   "execution_count": 3,
   "id": "d55cb989",
   "metadata": {},
   "outputs": [
    {
     "name": "stdout",
     "output_type": "stream",
     "text": [
      "Select your credentials file (in json form)...\n",
      "API \"test_api\" is selected.\n"
     ]
    }
   ],
   "source": [
    "# Create a temporary Tkinter root window\n",
    "root = Tk()\n",
    "root.attributes('-topmost',True)\n",
    "root.withdraw()\n",
    "\n",
    "print(\"Select your credentials file (in json form)...\")\n",
    "# Open the file dialog within the Jupyter Notebook interface\n",
    "filepath = filedialog.askopenfilename()\n",
    "\n",
    "# Close the temporary Tkinter root window\n",
    "root.destroy()\n",
    "\n",
    "# Continue with the rest of your code\n",
    "file = open(filepath, 'r')\n",
    "\n",
    "credentials = json.load(file)\n",
    "file.close()\n",
    "\n",
    "api_name = credentials['api_name']\n",
    "api_key = credentials['api_key']\n",
    "api_secret_key = credentials['api_secret_key']\n",
    "\n",
    "client = Client(api_key, api_secret_key)\n",
    "print(f'API \"{api_name}\" is selected.')"
   ]
  },
  {
   "cell_type": "markdown",
   "id": "07934bb4",
   "metadata": {},
   "source": [
    "# Check Cryptocurrency Volumes in USDT\n",
    "\n",
    "Plot the histogram of the cryptocurrency volumes to help us decide the threshold volume to detect the sudden price change."
   ]
  },
  {
   "cell_type": "code",
   "execution_count": 6,
   "id": "8b938934",
   "metadata": {},
   "outputs": [
    {
     "data": {
      "text/html": [
       "<div>\n",
       "<style scoped>\n",
       "    .dataframe tbody tr th:only-of-type {\n",
       "        vertical-align: middle;\n",
       "    }\n",
       "\n",
       "    .dataframe tbody tr th {\n",
       "        vertical-align: top;\n",
       "    }\n",
       "\n",
       "    .dataframe thead th {\n",
       "        text-align: right;\n",
       "    }\n",
       "</style>\n",
       "<table border=\"1\" class=\"dataframe\">\n",
       "  <thead>\n",
       "    <tr style=\"text-align: right;\">\n",
       "      <th></th>\n",
       "      <th>symbol</th>\n",
       "      <th>weightedAvgPrice</th>\n",
       "      <th>quoteVolume</th>\n",
       "      <th>quoteAsset</th>\n",
       "      <th>quoteToUSDT</th>\n",
       "      <th>volumeUSDT</th>\n",
       "      <th>logVolumeUSDT</th>\n",
       "    </tr>\n",
       "  </thead>\n",
       "  <tbody>\n",
       "    <tr>\n",
       "      <th>312</th>\n",
       "      <td>BTCTUSD</td>\n",
       "      <td>30279.232718</td>\n",
       "      <td>1.305375e+09</td>\n",
       "      <td>TUSD</td>\n",
       "      <td>TUSDUSDT</td>\n",
       "      <td>1.303490e+09</td>\n",
       "      <td>9.115108</td>\n",
       "    </tr>\n",
       "    <tr>\n",
       "      <th>614</th>\n",
       "      <td>BTCBUSD</td>\n",
       "      <td>30196.646013</td>\n",
       "      <td>1.325614e+08</td>\n",
       "      <td>BUSD</td>\n",
       "      <td>BUSDUSDT</td>\n",
       "      <td>1.325419e+08</td>\n",
       "      <td>8.122353</td>\n",
       "    </tr>\n",
       "    <tr>\n",
       "      <th>632</th>\n",
       "      <td>ETHBUSD</td>\n",
       "      <td>1847.657438</td>\n",
       "      <td>1.021113e+08</td>\n",
       "      <td>BUSD</td>\n",
       "      <td>BUSDUSDT</td>\n",
       "      <td>1.020962e+08</td>\n",
       "      <td>8.009010</td>\n",
       "    </tr>\n",
       "    <tr>\n",
       "      <th>1501</th>\n",
       "      <td>FTTBUSD</td>\n",
       "      <td>1.556643</td>\n",
       "      <td>7.787395e+07</td>\n",
       "      <td>BUSD</td>\n",
       "      <td>BUSDUSDT</td>\n",
       "      <td>7.786246e+07</td>\n",
       "      <td>7.891328</td>\n",
       "    </tr>\n",
       "    <tr>\n",
       "      <th>0</th>\n",
       "      <td>ETHBTC</td>\n",
       "      <td>0.061147</td>\n",
       "      <td>1.178739e+03</td>\n",
       "      <td>BTC</td>\n",
       "      <td>BTCUSDT</td>\n",
       "      <td>3.560070e+07</td>\n",
       "      <td>7.551459</td>\n",
       "    </tr>\n",
       "    <tr>\n",
       "      <th>613</th>\n",
       "      <td>BNBBUSD</td>\n",
       "      <td>231.687161</td>\n",
       "      <td>3.122308e+07</td>\n",
       "      <td>BUSD</td>\n",
       "      <td>BUSDUSDT</td>\n",
       "      <td>3.121847e+07</td>\n",
       "      <td>7.494412</td>\n",
       "    </tr>\n",
       "    <tr>\n",
       "      <th>689</th>\n",
       "      <td>BTCEUR</td>\n",
       "      <td>27726.707857</td>\n",
       "      <td>2.292358e+07</td>\n",
       "      <td>EUR</td>\n",
       "      <td>EURUSDT</td>\n",
       "      <td>2.499122e+07</td>\n",
       "      <td>7.397788</td>\n",
       "    </tr>\n",
       "    <tr>\n",
       "      <th>631</th>\n",
       "      <td>XRPBUSD</td>\n",
       "      <td>0.467974</td>\n",
       "      <td>2.061626e+07</td>\n",
       "      <td>BUSD</td>\n",
       "      <td>BUSDUSDT</td>\n",
       "      <td>2.061322e+07</td>\n",
       "      <td>7.314146</td>\n",
       "    </tr>\n",
       "    <tr>\n",
       "      <th>665</th>\n",
       "      <td>BCHBUSD</td>\n",
       "      <td>229.367427</td>\n",
       "      <td>1.958373e+07</td>\n",
       "      <td>BUSD</td>\n",
       "      <td>BUSDUSDT</td>\n",
       "      <td>1.958084e+07</td>\n",
       "      <td>7.291831</td>\n",
       "    </tr>\n",
       "    <tr>\n",
       "      <th>1366</th>\n",
       "      <td>XVGBUSD</td>\n",
       "      <td>0.002931</td>\n",
       "      <td>1.744723e+07</td>\n",
       "      <td>BUSD</td>\n",
       "      <td>BUSDUSDT</td>\n",
       "      <td>1.744466e+07</td>\n",
       "      <td>7.241662</td>\n",
       "    </tr>\n",
       "  </tbody>\n",
       "</table>\n",
       "</div>"
      ],
      "text/plain": [
       "       symbol  weightedAvgPrice   quoteVolume quoteAsset quoteToUSDT  \\\n",
       "312   BTCTUSD      30279.232718  1.305375e+09       TUSD    TUSDUSDT   \n",
       "614   BTCBUSD      30196.646013  1.325614e+08       BUSD    BUSDUSDT   \n",
       "632   ETHBUSD       1847.657438  1.021113e+08       BUSD    BUSDUSDT   \n",
       "1501  FTTBUSD          1.556643  7.787395e+07       BUSD    BUSDUSDT   \n",
       "0      ETHBTC          0.061147  1.178739e+03        BTC     BTCUSDT   \n",
       "613   BNBBUSD        231.687161  3.122308e+07       BUSD    BUSDUSDT   \n",
       "689    BTCEUR      27726.707857  2.292358e+07        EUR     EURUSDT   \n",
       "631   XRPBUSD          0.467974  2.061626e+07       BUSD    BUSDUSDT   \n",
       "665   BCHBUSD        229.367427  1.958373e+07       BUSD    BUSDUSDT   \n",
       "1366  XVGBUSD          0.002931  1.744723e+07       BUSD    BUSDUSDT   \n",
       "\n",
       "        volumeUSDT  logVolumeUSDT  \n",
       "312   1.303490e+09       9.115108  \n",
       "614   1.325419e+08       8.122353  \n",
       "632   1.020962e+08       8.009010  \n",
       "1501  7.786246e+07       7.891328  \n",
       "0     3.560070e+07       7.551459  \n",
       "613   3.121847e+07       7.494412  \n",
       "689   2.499122e+07       7.397788  \n",
       "631   2.061322e+07       7.314146  \n",
       "665   1.958084e+07       7.291831  \n",
       "1366  1.744466e+07       7.241662  "
      ]
     },
     "metadata": {},
     "output_type": "display_data"
    },
    {
     "data": {
      "text/plain": [
       "Text(0, 0.5, 'count')"
      ]
     },
     "execution_count": 6,
     "metadata": {},
     "output_type": "execute_result"
    },
    {
     "data": {
      "image/png": "[encoded data removed]",
      "text/plain": [
       "<Figure size 500x500 with 1 Axes>"
      ]
     },
     "metadata": {},
     "output_type": "display_data"
    }
   ],
   "source": [
    "tickers = client.get_ticker()\n",
    "df_tickers = pd.DataFrame.from_dict(tickers)\n",
    "df_tickers = df_tickers[['symbol', 'weightedAvgPrice', 'quoteVolume']]\n",
    "df_tickers[['weightedAvgPrice', 'quoteVolume']] = \\\n",
    "df_tickers[['weightedAvgPrice', 'quoteVolume']].astype(float)\n",
    "\n",
    "info = client.get_exchange_info()\n",
    "df_info = pd.DataFrame.from_dict(info['symbols'])\n",
    "\n",
    "df_tickers = pd.merge(df_tickers, df_info[['symbol', 'quoteAsset']], how='left', left_on='symbol', right_on='symbol')\n",
    "df_tickers['quoteToUSDT'] = df_tickers['quoteAsset'] + 'USDT'\n",
    "to_USDT_map = df_tickers.set_index('symbol')['weightedAvgPrice'].to_dict()\n",
    "df_tickers['volumeUSDT'] = df_tickers['quoteToUSDT'].map(to_USDT_map) * df_tickers['quoteVolume']\n",
    "df_tickers.sort_values(by=['volumeUSDT'], ascending=False, inplace=True)\n",
    "df_tickers['logVolumeUSDT'] = np.log10(df_tickers['volumeUSDT'])\n",
    "\n",
    "display(df_tickers.head(10))\n",
    "\n",
    "fig, axs = plt.subplots(ncols=1, nrows=1, figsize=(5, 5))\n",
    "sns.histplot(df_tickers[df_tickers['logVolumeUSDT'] > 0]['logVolumeUSDT'], ax=axs)\n",
    "axs.set_title('Distribution of Log Volume in USDT', size=15, y=1)\n",
    "axs.set_xticks(range(10))\n",
    "axs.set_xlabel('Log Volume (USDT)')\n",
    "axs.set_ylabel('count')"
   ]
  },
  {
   "cell_type": "markdown",
   "id": "b25bc76f",
   "metadata": {},
   "source": [
    "Define the function `get_trading_symbols`, which gives the trading pairs that has more 24H USDT volume than the threshold."
   ]
  },
  {
   "cell_type": "code",
   "execution_count": 7,
   "id": "7e7ff272",
   "metadata": {},
   "outputs": [],
   "source": [
    "from tqdm import tqdm\n",
    "\n",
    "def get_trading_symbols(limitLogVolumeUSDT):\n",
    "    tickers = client.get_ticker()\n",
    "    df_tickers = pd.DataFrame.from_dict(tickers)\n",
    "    df_tickers = df_tickers[['symbol', 'weightedAvgPrice', 'quoteVolume']]\n",
    "    df_tickers[['weightedAvgPrice', 'quoteVolume']] = \\\n",
    "    df_tickers[['weightedAvgPrice', 'quoteVolume']].astype(float)\n",
    "\n",
    "    info = client.get_exchange_info()\n",
    "    df_info = pd.DataFrame.from_dict(info['symbols'])\n",
    "\n",
    "    df_tickers = pd.merge(df_tickers, df_info[['symbol', 'quoteAsset']], how='left', left_on='symbol', right_on='symbol')\n",
    "    df_tickers['quoteToUSDT'] = df_tickers['quoteAsset'] + 'USDT'\n",
    "    to_USDT_map = df_tickers.set_index('symbol')['weightedAvgPrice'].to_dict()\n",
    "    df_tickers['volumeUSDT'] = df_tickers['quoteToUSDT'].map(to_USDT_map) * df_tickers['quoteVolume']\n",
    "    df_tickers['logVolumeUSDT'] = np.log10(df_tickers['volumeUSDT'])\n",
    "    df_tickers = df_tickers[df_tickers['logVolumeUSDT'] > limitLogVolumeUSDT]\n",
    "    \n",
    "    return list(df_tickers['symbol'])"
   ]
  },
  {
   "cell_type": "markdown",
   "id": "1926d25d",
   "metadata": {},
   "source": [
    "# Main Function\n",
    "\n",
    "For each time interval `delaySecond`, detect the trading pairs with vwap change more than `thresholdPercent` comparing with the vwap at the beginning."
   ]
  },
  {
   "cell_type": "code",
   "execution_count": 15,
   "id": "4343077b",
   "metadata": {},
   "outputs": [
    {
     "name": "stdout",
     "output_type": "stream",
     "text": [
      "2023-06-29 05:05:03.399739\n",
      "17 trading pairs selected.\n",
      "Nothing detected.\n",
      "2023-06-29 05:05:09.418988\n",
      "17 trading pairs selected.\n",
      "Nothing detected.\n",
      "2023-06-29 05:05:15.502132\n",
      "17 trading pairs selected.\n",
      "Nothing detected.\n",
      "2023-06-29 05:05:21.509753\n",
      "17 trading pairs selected.\n",
      "Nothing detected.\n",
      "2023-06-29 05:05:27.477409\n",
      "17 trading pairs selected.\n",
      "Nothing detected.\n"
     ]
    },
    {
     "ename": "KeyboardInterrupt",
     "evalue": "",
     "output_type": "error",
     "traceback": [
      "\u001b[1;31m---------------------------------------------------------------------------\u001b[0m",
      "\u001b[1;31mKeyboardInterrupt\u001b[0m                         Traceback (most recent call last)",
      "Cell \u001b[1;32mIn[15], line 8\u001b[0m\n\u001b[0;32m      5\u001b[0m delaySecond \u001b[38;5;241m=\u001b[39m \u001b[38;5;241m5\u001b[39m\n\u001b[0;32m      7\u001b[0m \u001b[38;5;28;01mwhile\u001b[39;00m \u001b[38;5;28;01mTrue\u001b[39;00m:\n\u001b[1;32m----> 8\u001b[0m     time\u001b[38;5;241m.\u001b[39msleep(delaySecond)\n\u001b[0;32m      9\u001b[0m     \u001b[38;5;28mprint\u001b[39m(datetime\u001b[38;5;241m.\u001b[39mutcnow())\n\u001b[0;32m     10\u001b[0m     candidatePairs \u001b[38;5;241m=\u001b[39m get_trading_symbols(limitLogVolumeUSDT)\n",
      "\u001b[1;31mKeyboardInterrupt\u001b[0m: "
     ]
    }
   ],
   "source": [
    "price_baseline = {}\n",
    "\n",
    "limitLogVolumeUSDT = 7\n",
    "thresholdPercent = 2\n",
    "delaySecond = 5\n",
    "\n",
    "while True:\n",
    "    time.sleep(delaySecond)\n",
    "    print(datetime.utcnow())\n",
    "    candidatePairs = get_trading_symbols(limitLogVolumeUSDT)\n",
    "    print(f'{len(candidatePairs)} trading pairs selected.')\n",
    "    detected = False\n",
    "    if (candidatePairs):\n",
    "        for candidatePair in candidatePairs:\n",
    "            avgPrice = float(client.get_ticker(symbol=candidatePair)['weightedAvgPrice'])\n",
    "#             lastPrice = float(client.get_ticker(symbol=candidatePair)['lastPrice'])\n",
    "            \n",
    "            if candidatePair not in price_baseline:\n",
    "                price_baseline[candidatePair] = avgPrice\n",
    "            \n",
    "#             print(f'Pair: {candidatePair}, Price: {avgPrice}, Price baseline: {price_baseline[candidatePair]}')\n",
    "            if avgPrice > price_baseline[candidatePair] * (1 + 0.01 * thresholdPercent):\n",
    "                detected = True\n",
    "                print(f'Trading pair: {candidatePair}, \"is skyrocketing.\\n\", \\\n",
    "                      Price: {avgPrice}, Price baseline: {price_baseline[candidatePair]}')\n",
    "                \n",
    "            if avgPrice < price_baseline[candidatePair] * (1 - 0.01 * thresholdPercent):\n",
    "                detected = True\n",
    "                print(f'Trading pair: {candidatePair}, \"is plummeting.\\n\" \\\n",
    "                      Price: {avgPrice}, Price baseline: {price_baseline[candidatePair]}')\n",
    "    if (not detected):\n",
    "        print('Nothing detected.')"
   ]
  },
  {
   "cell_type": "code",
   "execution_count": null,
   "id": "b9047bb8",
   "metadata": {},
   "outputs": [],
   "source": []
  }
 ],
 "metadata": {
  "kernelspec": {
   "display_name": "Python 3 (ipykernel)",
   "language": "python",
   "name": "python3"
  },
  "language_info": {
   "codemirror_mode": {
    "name": "ipython",
    "version": 3
   },
   "file_extension": ".py",
   "mimetype": "text/x-python",
   "name": "python",
   "nbconvert_exporter": "python",
   "pygments_lexer": "ipython3",
   "version": "3.11.4"
  }
 },
 "nbformat": 4,
 "nbformat_minor": 5
}
